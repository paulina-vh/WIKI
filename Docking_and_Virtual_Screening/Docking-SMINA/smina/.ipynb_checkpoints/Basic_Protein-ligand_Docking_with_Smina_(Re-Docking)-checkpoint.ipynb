{
 "cells": [
  {
   "cell_type": "markdown",
   "id": "d060b022",
   "metadata": {},
   "source": [
    "# Basic Protein-ligand Docking with Smina (Re-Docking)\n",
    "Smina protein-ligand re-docking   \n",
    "* Laboratorio de diseño de fármacos Nanocell\n",
    "* https://www.nanocell.cl\n",
    "* Mr. Ignacio Martínez Valenzuela\n",
    "* v.1\n",
    "* November 2021"
   ]
  },
  {
   "cell_type": "markdown",
   "id": "ae0156ee",
   "metadata": {},
   "source": [
    "# Smina\n",
    "https://sourceforge.net/projects/smina/\n",
    "https://github.com/mwojcikowski/smina\n",
    "## Requirements\n",
    "* test_version = smina 2020.12.10 conda-forge:b08c07c   Built Jan 30 2021.  Based on AutoDock Vina 1.1.2.\n",
    "* conda install -c conda-forge smina\n",
    "* conda install -c conda-forge rdkit\n",
    "* conda install -c conda-forge py3dmol\n",
    "* conda install -c conda-forge spyrmsd \n",
    "* conda install -c conda-forge prody\n",
    "* or \n",
    "* Recomended $\\to$ conda create -n smina -c conda-forge smina rdkit py3dmol spyrmsd prody    "
   ]
  },
  {
   "cell_type": "markdown",
   "id": "37ddb64a",
   "metadata": {},
   "source": [
    "## Select Protein Receptor"
   ]
  },
  {
   "cell_type": "code",
   "execution_count": 1,
   "id": "3dd2521c",
   "metadata": {},
   "outputs": [],
   "source": [
    "# We're going to use crystalographic structure of MHETase from Ideonella sakaiensis as receptor\n",
    "#If you want to use another structure you need to change the pdb_code\n",
    "pdb_code = '4XDL'"
   ]
  },
  {
   "cell_type": "code",
   "execution_count": 2,
   "id": "7ae3bfb9",
   "metadata": {},
   "outputs": [],
   "source": [
    "import os\n",
    "os.chdir(\"run\") #Folder where you're working\n",
    "#Create a new folder with the name of pdb_code\n",
    "new_dir = \"{0}_smina\".format(pdb_code) \n",
    "try:os.mkdir(new_dir)\n",
    "except:pass\n",
    "os.chdir(new_dir)"
   ]
  },
  {
   "cell_type": "markdown",
   "id": "b6ac83c7",
   "metadata": {},
   "source": [
    "## Download Receptor Structure"
   ]
  },
  {
   "cell_type": "code",
   "execution_count": 3,
   "id": "2b7d7936",
   "metadata": {},
   "outputs": [],
   "source": [
    "#Download the structure from rscb, pdb database\n",
    "cmd1 = \"wget https://files.rcsb.org/download/{0}.pdb\".format(pdb_code)\n",
    "#Extract chain A\n",
    "cmd2 = \"grep -i ' A ' {0}.pdb > {0}_A.pdb\".format(pdb_code)"
   ]
  },
  {
   "cell_type": "code",
   "execution_count": 4,
   "id": "77f7e83d",
   "metadata": {
    "scrolled": true
   },
   "outputs": [
    {
     "name": "stderr",
     "output_type": "stream",
     "text": [
      "--2022-06-01 13:05:12--  https://files.rcsb.org/download/4XDL.pdb\n",
      "Resolviendo files.rcsb.org (files.rcsb.org)... 128.6.158.70\n",
      "Conectando con files.rcsb.org (files.rcsb.org)[128.6.158.70]:443... conectado.\n",
      "Petición HTTP enviada, esperando respuesta... 200 OK\n",
      "Longitud: no especificado [application/octet-stream]\n",
      "Guardando como: “4XDL.pdb”\n",
      "\n",
      "     0K .......... .......... .......... .......... ..........  171K\n",
      "    50K .......... .......... .......... .......... ..........  345K\n",
      "   100K .......... .......... .......... .......... .......... 11.4M\n",
      "   150K .......... .......... .......... .......... .......... 11.5M\n",
      "   200K .......... .......... .......... .......... ..........  355K\n",
      "   250K .......... .......... .......... .......... .......... 10.1M\n",
      "   300K .......... .......... .......... .......... ..........  166K\n",
      "   350K .......... .......... .......... .......... ..........  132M\n",
      "   400K .......... .......... .......... .......... ..........  110M\n",
      "   450K .......... .......... .......... .......... ..........  116M\n",
      "   500K .......... .......... .......... .......... ..........  117M\n",
      "   550K .......... .......... .......... .......... ..........  116M\n",
      "   600K .......... .......... .......... .......... .......... 96.8M\n",
      "   650K .......... .......... .......... .......... ..........  130M\n",
      "   700K .......... .......... .......... .......... ..........  123M\n",
      "   750K .......... .......... .......... .......... .......... 97.4M\n",
      "   800K .......... .......... .......... .......... ..........  367K\n",
      "   850K .......... .......... .......... .......... .......... 10.2M\n",
      "   900K .......... .......... .......... .......... .......... 11.2M\n",
      "   950K .......... .......... .......... .......... ..........  334K\n",
      "  1000K .......... .......... .......... .......... .......... 27.1M\n",
      "  1050K .......... .......... .......... .......... ..........  141M\n",
      "  1100K .......... .......... .......... .......... ..........  130M\n",
      "  1150K .......... .......... .......... .......... ..........  383K\n",
      "  1200K .......... .......... .......... .......... .......... 7.66M\n",
      "  1250K .......... .......... .......... ..........            8.34M=1.3s\n",
      "\n",
      "2022-06-01 13:05:14 (965 KB/s) - “4XDL.pdb” guardado [1321839]\n",
      "\n"
     ]
    }
   ],
   "source": [
    "#Running \n",
    "os.system(cmd1)\n",
    "try:os.system(cmd2)\n",
    "except:pass"
   ]
  },
  {
   "cell_type": "markdown",
   "id": "84fb6cf3",
   "metadata": {},
   "source": [
    "## Extract Ligand from PDB\n",
    "\n",
    "* In this case we´re going to use the same ligand from the structure of receptor to perform docking\n",
    "* This is called Re-docking"
   ]
  },
  {
   "cell_type": "code",
   "execution_count": 5,
   "id": "f98bb28a",
   "metadata": {},
   "outputs": [],
   "source": [
    "#Extract ligand from chain A\n",
    "cmd3 = \"grep -i '40D' {0}_A.pdb > {0}_ligand.pdb\".format(pdb_code)"
   ]
  },
  {
   "cell_type": "code",
   "execution_count": 6,
   "id": "f228f5b9",
   "metadata": {},
   "outputs": [
    {
     "data": {
      "text/plain": [
       "0"
      ]
     },
     "execution_count": 6,
     "metadata": {},
     "output_type": "execute_result"
    }
   ],
   "source": [
    "os.system(cmd3)"
   ]
  },
  {
   "cell_type": "markdown",
   "id": "a6e43458",
   "metadata": {},
   "source": [
    "## Clean Receptor \n",
    "* We need clean the pdb of all heteroatoms (ligands, waters, ions, precipitant agent) to use it in the docking program"
   ]
  },
  {
   "cell_type": "code",
   "execution_count": 7,
   "id": "93a68c55",
   "metadata": {},
   "outputs": [],
   "source": [
    "#Clean the strcture of heteroatoms\n",
    "cmd4 = \"grep -v HETATM {0}_A.pdb > {0}_clean.pdb\".format(pdb_code)"
   ]
  },
  {
   "cell_type": "code",
   "execution_count": 8,
   "id": "6cd47bd7",
   "metadata": {},
   "outputs": [
    {
     "data": {
      "text/plain": [
       "0"
      ]
     },
     "execution_count": 8,
     "metadata": {},
     "output_type": "execute_result"
    }
   ],
   "source": [
    "os.system(cmd4)"
   ]
  },
  {
   "cell_type": "markdown",
   "id": "ef934ad3",
   "metadata": {},
   "source": [
    "## Receptor Rigid Docking with Smina\n",
    "* seed &rarr; random number used for reproducibility\n",
    "* exhaustiveness &rarr; controls the amount of stochastic sampling (roughly proportional to time)\n",
    "* autobox_add &rarr; Amount of buffer space to add to auto-generated box (default +4 on all six sides)\n",
    "* autobox_ligand &rarr; reference to autobox"
   ]
  },
  {
   "cell_type": "code",
   "execution_count": 9,
   "id": "bbc82471",
   "metadata": {},
   "outputs": [],
   "source": [
    "#Smina Rigid Docking\n",
    "cmd5= \"smina --cpu 12 --seed 0 --exhaustiveness 32 --autobox_add +6 --autobox_ligand {0}_ligand.pdb -r {0}_clean.pdb -l {0}_ligand.pdb -o {0}_docking.sdf --log Rigid_results.log\".format(pdb_code)"
   ]
  },
  {
   "cell_type": "code",
   "execution_count": null,
   "id": "52742aae",
   "metadata": {},
   "outputs": [],
   "source": [
    "#Runing smina Rigid Receptor\n",
    "os.system(cmd5)"
   ]
  },
  {
   "cell_type": "markdown",
   "id": "e01f412c",
   "metadata": {},
   "source": [
    "## Visualization\n",
    "\n",
    "* Best result or pose (cyan) vs crystallographic ligand (magenta)"
   ]
  },
  {
   "cell_type": "code",
   "execution_count": null,
   "id": "33bbf53f",
   "metadata": {},
   "outputs": [],
   "source": [
    "from rdkit import Chem\n",
    "from rdkit.Chem import AllChem, Draw\n",
    "import py3Dmol\n",
    "\n",
    "#Parameters\n",
    "\n",
    "view = py3Dmol.view()\n",
    "view.removeAllModels()\n",
    "view.setViewStyle({'style':'outline','color':'black','width':0.1})\n",
    "\n",
    "# Receptor \n",
    "\n",
    "view.addModel(open('{0}_clean.pdb'.format(pdb_code),'r').read(),format='pdb')\n",
    "Prot=view.getModel()\n",
    "Prot.setStyle({'cartoon':{'arrows':True, 'tubes':True, 'style':'oval', 'color':'white'}})\n",
    "view.addSurface(py3Dmol.VDW,{'opacity':0.6,'color':'white'})\n",
    "\n",
    "# Reference Ligand\n",
    "\n",
    "view.addModel(open('{0}_ligand.pdb'.format(pdb_code),'r').read(),format='pdb')\n",
    "ref_m = view.getModel()\n",
    "ref_m.setStyle({},{'stick':{'colorscheme':'magentaCarbon','radius':0.2}})\n",
    "\n",
    "# Docking Result\n",
    "\n",
    "results=Chem.SDMolSupplier('{0}_docking.sdf'.format(pdb_code))\n",
    "\n",
    "p=Chem.MolToMolBlock(results[0],False)  # [0] give you the first result from docking, to view another change this value\n",
    "p2=Chem.MolToMolBlock(results[8],False)\n",
    "# Print Score\n",
    "\n",
    "print('Reference: Magenta | Smina Pose: Cyan')\n",
    "print ('Score: {}'.format(results[0].GetProp('minimizedAffinity')))  # If change docking result above, change this value too\n",
    "\n",
    "view.addModel(p,'mol')\n",
    "x = view.getModel()\n",
    "x.setStyle({},{'stick':{'colorscheme':'cyanCarbon','radius':0.2}})\n",
    "\n",
    "\n",
    "#Visualization\n",
    "\n",
    "view.zoomTo()\n",
    "view.show()"
   ]
  },
  {
   "cell_type": "markdown",
   "id": "b4d98fb9",
   "metadata": {},
   "source": [
    "## RMSD Measurement"
   ]
  },
  {
   "cell_type": "code",
   "execution_count": null,
   "id": "63e67ea4",
   "metadata": {},
   "outputs": [],
   "source": [
    "from spyrmsd import io, rmsd\n",
    "\n",
    "#Load Reference\n",
    "\n",
    "ref = io.loadmol('{0}_ligand.pdb'.format(pdb_code))\n",
    "\n",
    "coords_ref = ref.coordinates\n",
    "anum_ref = ref.atomicnums\n",
    "adj_ref = ref.adjacency_matrix\n",
    "\n",
    "#Load Smina results\n",
    "\n",
    "mols = io.loadallmols('{0}_docking.sdf'.format(pdb_code))\n",
    "\n",
    "for mol in mols:      #Remove the hydrogens from the poses to compare them with the reference which has no hydrogens \n",
    "    mol.strip()\n",
    "\n",
    "coords = [mol.coordinates for mol in mols]\n",
    "anum = mols[0].atomicnums\n",
    "adj = mols[0].adjacency_matrix"
   ]
  },
  {
   "cell_type": "code",
   "execution_count": null,
   "id": "6f0ac086",
   "metadata": {},
   "outputs": [],
   "source": [
    "RMSD = rmsd.symmrmsd(coords_ref,coords,anum_ref,anum,adj_ref,adj)\n",
    "print(RMSD)"
   ]
  },
  {
   "cell_type": "markdown",
   "id": "8a094d2f",
   "metadata": {},
   "source": [
    "## Flexible Receptor Docking with Smina\n",
    "* --flexdist_ligand $\\to$  Ligand reference to set flexible residues\n",
    "* --flexdist $\\to$ Distance from flexdist_ligand at which residues are considered as flexibles\n",
    "* With --flexres chain:residue $\\to$ you can select manually wich residues want to set as flexible\n",
    "* out_flex $\\to$ file with flexible residues of docking results\n",
    "* Recomendations:\n",
    "     * $\\to$ increase exhaustiveness\n",
    "     * $\\to$ scan flexres with flexdist_ligand and select residues of interest\n",
    "     * $\\to$ increase autobox_add (not very much)"
   ]
  },
  {
   "cell_type": "code",
   "execution_count": null,
   "id": "6762af4b",
   "metadata": {},
   "outputs": [],
   "source": [
    "#Smina Flex Docking\n",
    "cmd6= \"smina --cpu 12 --seed 0 --exhaustiveness 64 --flexdist_ligand {0}_ligand.pdb --flexdist 3 --autobox_add +7 --autobox_ligand {0}_ligand.pdb -r {0}_clean.pdb -l {0}_ligand.pdb -o {0}_flex_docking.sdf --out_flex {0}_flex_residues.pdb --log Flex_results.log\".format(pdb_code)"
   ]
  },
  {
   "cell_type": "code",
   "execution_count": null,
   "id": "d0b3f704",
   "metadata": {},
   "outputs": [],
   "source": [
    "#Runing smina Flexible Receptor\n",
    "os.system(cmd6)"
   ]
  },
  {
   "cell_type": "markdown",
   "id": "f0ead540",
   "metadata": {},
   "source": [
    "### Merge Flex Residues from docking to origen structure\n",
    "* Download makflex.py from https://github.com/gnina/gnina/blob/master/scripts/\n",
    "* Arguments: \n",
    "             rigidname = args.rigid\n",
    "             flexname  = args.flex\n",
    "             outfile   = args.out"
   ]
  },
  {
   "cell_type": "code",
   "execution_count": null,
   "id": "ef763eb9",
   "metadata": {},
   "outputs": [],
   "source": [
    "# Go to the Protein-ligand folder or the folder containing the makeflex.py\n",
    "import os\n",
    "os.chdir(\"../\")"
   ]
  },
  {
   "cell_type": "code",
   "execution_count": null,
   "id": "948a536f",
   "metadata": {},
   "outputs": [],
   "source": [
    "cmd7=\"python makeflex.py {0}_smina/{0}_clean.pdb {0}_smina/{0}_flex_residues.pdb {0}_smina/{0}_merge.pdb\".format(pdb_code)"
   ]
  },
  {
   "cell_type": "code",
   "execution_count": null,
   "id": "b0de99ec",
   "metadata": {},
   "outputs": [],
   "source": [
    "os.system(cmd7)"
   ]
  },
  {
   "cell_type": "markdown",
   "id": "38ae50d1",
   "metadata": {},
   "source": [
    "## Visualization Flexible Docking results"
   ]
  },
  {
   "cell_type": "code",
   "execution_count": null,
   "id": "4b3c8585",
   "metadata": {},
   "outputs": [],
   "source": [
    "import os\n",
    "os.chdir(\"{0}_smina\".format(pdb_code))"
   ]
  },
  {
   "cell_type": "code",
   "execution_count": null,
   "id": "b92599a9",
   "metadata": {
    "scrolled": true
   },
   "outputs": [],
   "source": [
    "import py3Dmol\n",
    "\n",
    "#Parameters\n",
    "\n",
    "view = py3Dmol.view()\n",
    "view.removeAllModels()\n",
    "view.setViewStyle({'style':'outline','color':'black','width':0.1})\n",
    "\n",
    "#Protein with merged residues\n",
    "\n",
    "view.addModel(open('{0}_merge.pdb'.format(pdb_code),'r').read(),format='pdb')\n",
    "Prot=view.getModel()\n",
    "Prot.setStyle({'cartoon':{'arrows':True, 'tubes':True, 'style':'oval', 'color':'white'}})\n",
    "view.addSurface(py3Dmol.VDW,{'opacity':0.6,'color':'white'})\n",
    "\n",
    "#Reference Ligand\n",
    "\n",
    "view.addModel(open('{0}_ligand.pdb'.format(pdb_code),'r').read(),format='pdb')\n",
    "ref_m = view.getModel()\n",
    "ref_m.setStyle({},{'stick':{'colorscheme':'magentaCarbon','radius':0.2}})\n",
    "\n",
    "# Docking Results\n",
    "\n",
    "results=Chem.SDMolSupplier('{0}_flex_docking.sdf'.format(pdb_code))\n",
    "\n",
    "p=Chem.MolToMolBlock(results[0],False)\n",
    "\n",
    "print('Reference: Magenta | Smina Pose: Cyan | Smina Flexres: Yellow ')\n",
    "print ('Score: {}'.format(results[0].GetProp('minimizedAffinity')))\n",
    "\n",
    "view.addModel(p,'mol')\n",
    "x = view.getModel()\n",
    "x.setStyle({},{'stick':{'colorscheme':'cyanCarbon','radius':0.2}})\n",
    "\n",
    "#Flexible Residues\n",
    "\n",
    "view.addModel(open('{0}_flex_residues.pdb'.format(pdb_code),'r').read(),format='pdb')\n",
    "ref_m = view.getModel()\n",
    "ref_m.setStyle({},{'stick':{'colorscheme':'yellowCarbon','radius':0.2}})\n",
    "\n",
    "#Visualization\n",
    "\n",
    "view.zoomTo()\n",
    "view.show()"
   ]
  },
  {
   "cell_type": "markdown",
   "id": "2fe569ff",
   "metadata": {},
   "source": [
    "## RMSD measurement"
   ]
  },
  {
   "cell_type": "code",
   "execution_count": null,
   "id": "c97793d2",
   "metadata": {},
   "outputs": [],
   "source": [
    "from spyrmsd import io, rmsd\n",
    "\n",
    "#Load Reference\n",
    "\n",
    "ref = io.loadmol('{0}_ligand.pdb'.format(pdb_code))\n",
    "\n",
    "coords_ref = ref.coordinates\n",
    "anum_ref = ref.atomicnums\n",
    "adj_ref = ref.adjacency_matrix\n",
    "\n",
    "#Load Smina results\n",
    "\n",
    "mols = io.loadallmols('{0}_flex_docking.sdf'.format(pdb_code))\n",
    "\n",
    "for mol in mols:      #Remove the hydrogens from the poses to compare them with the reference which has no hydrogens \n",
    "    mol.strip()\n",
    "\n",
    "coords = [mol.coordinates for mol in mols]\n",
    "anum = mols[0].atomicnums\n",
    "adj = mols[0].adjacency_matrix"
   ]
  },
  {
   "cell_type": "code",
   "execution_count": null,
   "id": "4672d164",
   "metadata": {},
   "outputs": [],
   "source": [
    "RMSD = rmsd.symmrmsd(coords_ref,coords,anum_ref,anum,adj_ref,adj)\n",
    "print(RMSD)"
   ]
  }
 ],
 "metadata": {
  "kernelspec": {
   "display_name": "Python 3 (ipykernel)",
   "language": "python",
   "name": "python3"
  },
  "language_info": {
   "codemirror_mode": {
    "name": "ipython",
    "version": 3
   },
   "file_extension": ".py",
   "mimetype": "text/x-python",
   "name": "python",
   "nbconvert_exporter": "python",
   "pygments_lexer": "ipython3",
   "version": "3.10.4"
  }
 },
 "nbformat": 4,
 "nbformat_minor": 5
}
